{
 "cells": [
  {
   "cell_type": "code",
   "execution_count": 22,
   "metadata": {},
   "outputs": [
    {
     "data": {
      "text/plain": [
       "Dynamical System of Projective Space of dimension 1 over Rational function field in t over Finite Field of size 17\n",
       "  Defn: Defined on coordinates by sending (x : y) to\n",
       "        (x^2 + t*y^2 : t*y^2)"
      ]
     },
     "execution_count": 22,
     "metadata": {},
     "output_type": "execute_result"
    }
   ],
   "source": [
    "K = GF(17)\n",
    "FF.<t> = FunctionField(K)\n",
    "P.<x,y> = ProjectiveSpace(FF,1)\n",
    "DS1 = DynamicalSystem([(1/t)*x^2+y^2 ,y^2])\n",
    "DS1.normalize_coordinates()\n",
    "DS1"
   ]
  },
  {
   "cell_type": "code",
   "execution_count": 38,
   "metadata": {},
   "outputs": [],
   "source": [
    "# %load is_prime_of_good_reduction.py\n",
    "# Function to check if \"prime\" is a prime of good reduction\n",
    "def is_prime_of_good_reduction(self,prime):\n",
    "    DS = copy(self)\n",
    "    degree = DS.degree_sequence(1)[0]\n",
    "    try:\n",
    "        new_DS = mod(DS,prime)\n",
    "    except:\n",
    "        # the mod fucntion modDS throws exception only if\n",
    "        # the polynomials of the DynamicalSystem doesn't have the same degree which\n",
    "        # means that this is a prime of bad reduction\n",
    "        return False\n",
    "    # check if the degree of the DynamicalSystem changed.\n",
    "    # yes -> prime of bad reduction\n",
    "    # no -> prime of good reduction\n",
    "    if new_DS.degree_sequence(1)[0] != degree :\n",
    "        return False\n",
    "    return True"
   ]
  },
  {
   "cell_type": "code",
   "execution_count": 42,
   "metadata": {},
   "outputs": [],
   "source": [
    "def all_possible_global_periods(self,primes,e  ):\n",
    "    DS = copy(self)\n",
    "    base = DS.base_ring()\n",
    "    CF = base.constant_field() \n",
    "    D = DS.domain()\n",
    "    # check if the dimension is equal to 1\n",
    "    if DS.domain().dimension() != 1 :\n",
    "        raise NotImplementedError(\"The dimension must be 1\")\n",
    "    # check if the field is function field over Finite Field \n",
    "    if not isinstance(DS.base_ring(), sage.rings.function_field.function_field.RationalFunctionField_global) or CF.order() == Infinity : \n",
    "        raise TypeError(\"The field must be function field over finite Field \")\n",
    "    all_possible_global_periods_list = []\n",
    "    temp_g = 0\n",
    "    for prime in primes : \n",
    "        # check if the prime is a prime of good reduction\n",
    "        if is_prime_of_good_reduction(DS,prime) :\n",
    "            new_DS = mod(DS,prime)\n",
    "            all_periodic_points = new_DS.all_periodic_points()\n",
    "            for periodic_point in all_periodic_points:\n",
    "                # check if this isn't the infinity point\n",
    "                if periodic_point != D(1 , 0) : \n",
    "                    temp_g += 1 # just to know what is the first list\n",
    "                    period = new_DS.orbit_structure(periodic_point)[1] # period of the periodic point\n",
    "                    multiplier_ = new_DS.multiplier(periodic_point,period) \n",
    "                    sub_list = []\n",
    "                    # first add the period of the point\n",
    "                    sub_list.append(period)\n",
    "                    # first add the period of ( 1:0 ) \n",
    "                    sub_list.append(1)\n",
    "                    if multiplier_[0][0] != 0 : \n",
    "                        # calculate the multiplicative order of the multiplier\n",
    "                        a = CF(multiplier_[0][0])\n",
    "                        m_o = a.multiplicative_order() \n",
    "                        #  Compute mrVp^e for the cycle (period)\n",
    "                        for temp_e in range(0,e+1) : \n",
    "                            sub_list.append(period * m_o * (prime**temp_e) )\n",
    "                    if temp_g == 1 :\n",
    "                        # just to avoid making intersection\n",
    "                        # between the first possible periods list and the empty list (the start of the list )\n",
    "                        all_possible_global_periods_list = list(sub_list)\n",
    "                    else :\n",
    "                        # find the intersection between the list of the mrp^e (Proposition 2 in the article of Hutz algorithm )\n",
    "                        # and the main list possible global periods list\n",
    "                        all_possible_global_periods_list = list ( set(all_possible_global_periods_list) & set(sub_list))          \n",
    "    return all_possible_global_periods_list            "
   ]
  },
  {
   "cell_type": "code",
   "execution_count": 43,
   "metadata": {},
   "outputs": [],
   "source": [
    "# %load mod_dynamical_system_prime.py\n",
    "# Function the returns the dynamical system mod p ( ds mod p )\n",
    "def mod(self,p):\n",
    "    DS = copy(self)\n",
    "    DS.normalize_coordinates()  # normalize coordinates of dynamical system\n",
    "    df_p_all = DS.defining_polynomials()\n",
    "    coefficients = []\n",
    "    for i in range(0,len(df_p_all)):\n",
    "        coefficients.append(df_p_all[i].coefficients())\n",
    "    monomials = []\n",
    "    for i in range(0,len(df_p_all)):\n",
    "        monomials.append(df_p_all[i].monomials())\n",
    "    F = DS.base_ring() # obtain base_ring of dynamical system\n",
    "    O = F.maximal_order()\n",
    "    p = O.ideal(p).place()\n",
    "    k, fr_k, to_k = p.residue_field()\n",
    "    # reduce each coefficient of each polynomial using the function to_k :\n",
    "    reduced_coefficients = []\n",
    "    for i in range(0,len(coefficients)):\n",
    "        reduced_coefficients.append([to_k(c) for c in coefficients[i]])\n",
    "    # change the ring of each monomial to the residue field :\n",
    "    new_monomials = []\n",
    "    for i in range(0,len(monomials)):\n",
    "        new_monomials.append([m.change_ring(k) for m in monomials[i]])\n",
    "    new_pol = []\n",
    "    polynom = 0\n",
    "    for i in range(0,len(reduced_coefficients)):\n",
    "        for j in range(0,len(reduced_coefficients[i])):\n",
    "            polynom += reduced_coefficients[i][j] * new_monomials[i][j]\n",
    "        new_pol.append(polynom)\n",
    "        polynom = 0\n",
    "    # construct a new dynamical system from the polynomials\n",
    "    new_DS = DynamicalSystem(new_pol)\n",
    "    return new_DS"
   ]
  },
  {
   "cell_type": "code",
   "execution_count": 44,
   "metadata": {},
   "outputs": [
    {
     "name": "stdout",
     "output_type": "stream",
     "text": [
      "[t, t + 1, t + 2, t + 3, t + 4, t + 5, t + 6, t + 7, t + 8, t + 9, t + 10, t + 11, t + 12, t + 13, t + 14, t + 15, t + 16]\n"
     ]
    },
    {
     "data": {
      "text/plain": [
       "[1]"
      ]
     },
     "execution_count": 44,
     "metadata": {},
     "output_type": "execute_result"
    }
   ],
   "source": [
    "lst = []\n",
    "for prime in FF.places_finite(1):\n",
    "    lst.append(prime.local_uniformizer())\n",
    "print(lst)\n",
    "all_possible_global_periods(DS1,lst,1)"
   ]
  },
  {
   "cell_type": "code",
   "execution_count": null,
   "metadata": {},
   "outputs": [],
   "source": []
  }
 ],
 "metadata": {
  "kernelspec": {
   "display_name": "SageMath 9.2",
   "language": "sage",
   "name": "sagemath"
  },
  "language_info": {
   "codemirror_mode": {
    "name": "ipython",
    "version": 3
   },
   "file_extension": ".py",
   "mimetype": "text/x-python",
   "name": "python",
   "nbconvert_exporter": "python",
   "pygments_lexer": "ipython3",
   "version": "3.8.3"
  }
 },
 "nbformat": 4,
 "nbformat_minor": 4
}
