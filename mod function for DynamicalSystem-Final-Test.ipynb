{
 "cells": [
  {
   "cell_type": "code",
   "execution_count": 69,
   "metadata": {},
   "outputs": [
    {
     "data": {
      "text/plain": [
       "Finite Field of size 17"
      ]
     },
     "execution_count": 69,
     "metadata": {},
     "output_type": "execute_result"
    }
   ],
   "source": [
    "K = GF(17); K"
   ]
  },
  {
   "cell_type": "code",
   "execution_count": 70,
   "metadata": {},
   "outputs": [
    {
     "data": {
      "text/plain": [
       "Rational function field in t over Finite Field of size 17"
      ]
     },
     "execution_count": 70,
     "metadata": {},
     "output_type": "execute_result"
    }
   ],
   "source": [
    "FF.<t> = FunctionField(K); FF"
   ]
  },
  {
   "cell_type": "code",
   "execution_count": 71,
   "metadata": {},
   "outputs": [
    {
     "data": {
      "text/plain": [
       "Projective Space of dimension 1 over Rational function field in t over Finite Field of size 17"
      ]
     },
     "execution_count": 71,
     "metadata": {},
     "output_type": "execute_result"
    }
   ],
   "source": [
    "P1.<x,y> = ProjectiveSpace(FF,1); P1"
   ]
  },
  {
   "cell_type": "code",
   "execution_count": 72,
   "metadata": {},
   "outputs": [
    {
     "data": {
      "text/plain": [
       "Dynamical System of Projective Space of dimension 1 over Rational function field in t over Finite Field of size 17\n",
       "  Defn: Defined on coordinates by sending (x : y) to\n",
       "        (1/t*x^2 + y^2 : y^2)"
      ]
     },
     "execution_count": 72,
     "metadata": {},
     "output_type": "execute_result"
    }
   ],
   "source": [
    "DS = DynamicalSystem([(1/t)*x^2+y^2 ,y^2]); DS"
   ]
  },
  {
   "cell_type": "code",
   "execution_count": 73,
   "metadata": {},
   "outputs": [
    {
     "data": {
      "text/plain": [
       "Dynamical System of Projective Space of dimension 1 over Rational function field in t over Finite Field of size 17\n",
       "  Defn: Defined on coordinates by sending (x : y) to\n",
       "        (x^2 + t*y^2 : t*y^2)"
      ]
     },
     "execution_count": 73,
     "metadata": {},
     "output_type": "execute_result"
    }
   ],
   "source": [
    "DS.normalize_coordinates(); DS  # normalize coordinates of dynamical system"
   ]
  },
  {
   "cell_type": "code",
   "execution_count": 84,
   "metadata": {},
   "outputs": [
    {
     "data": {
      "text/plain": [
       "(x^2 + t*y^2, t*y^2)"
      ]
     },
     "execution_count": 84,
     "metadata": {},
     "output_type": "execute_result"
    }
   ],
   "source": [
    "df_p_all = DS.defining_polynomials()\n",
    "df_p_all"
   ]
  },
  {
   "cell_type": "code",
   "execution_count": 85,
   "metadata": {},
   "outputs": [
    {
     "data": {
      "text/plain": [
       "[[1, t], [t]]"
      ]
     },
     "execution_count": 85,
     "metadata": {},
     "output_type": "execute_result"
    }
   ],
   "source": [
    "coefficients = []\n",
    "for i in range(0,len(df_p_all)): \n",
    "    coefficients.append(df_p_all[i].coefficients())\n",
    "coefficients"
   ]
  },
  {
   "cell_type": "code",
   "execution_count": 86,
   "metadata": {},
   "outputs": [
    {
     "data": {
      "text/plain": [
       "[[x^2, y^2], [y^2]]"
      ]
     },
     "execution_count": 86,
     "metadata": {},
     "output_type": "execute_result"
    }
   ],
   "source": [
    "monomials = []\n",
    "for i in range(0,len(df_p_all)): \n",
    "    monomials.append(df_p_all[i].monomials())\n",
    "monomials"
   ]
  },
  {
   "cell_type": "code",
   "execution_count": 87,
   "metadata": {},
   "outputs": [
    {
     "data": {
      "text/plain": [
       "Rational function field in t over Finite Field of size 17"
      ]
     },
     "execution_count": 87,
     "metadata": {},
     "output_type": "execute_result"
    }
   ],
   "source": [
    "F = DS.base_ring(); F # obtain base_ring of dynamical system"
   ]
  },
  {
   "cell_type": "code",
   "execution_count": 88,
   "metadata": {},
   "outputs": [
    {
     "data": {
      "text/plain": [
       "Finite Field of size 17"
      ]
     },
     "execution_count": 88,
     "metadata": {},
     "output_type": "execute_result"
    }
   ],
   "source": [
    "p = t + 1 \n",
    "O = F.maximal_order()\n",
    "p = O.ideal(p).place()\n",
    "k, fr_k, to_k = p.residue_field()\n",
    "k"
   ]
  },
  {
   "cell_type": "code",
   "execution_count": 89,
   "metadata": {},
   "outputs": [
    {
     "data": {
      "text/plain": [
       "[[1, 16], [16]]"
      ]
     },
     "execution_count": 89,
     "metadata": {},
     "output_type": "execute_result"
    }
   ],
   "source": [
    "# reduce each coefficient of each polynomial using the function to_k :\n",
    "reduced_coefficients = []\n",
    "for i in range(0,len(coefficients)): \n",
    "    reduced_coefficients.append([to_k(c) for c in coefficients[i]])\n",
    "reduced_coefficients"
   ]
  },
  {
   "cell_type": "code",
   "execution_count": 90,
   "metadata": {},
   "outputs": [
    {
     "data": {
      "text/plain": [
       "[[x^2, y^2], [y^2]]"
      ]
     },
     "execution_count": 90,
     "metadata": {},
     "output_type": "execute_result"
    }
   ],
   "source": [
    "# change the ring of each monomial to the residue field :\n",
    "new_monomials = []\n",
    "for i in range(0,len(monomials)): \n",
    "    new_monomials.append([m.change_ring(k) for m in monomials[i]])\n",
    "new_monomials"
   ]
  },
  {
   "cell_type": "code",
   "execution_count": 91,
   "metadata": {},
   "outputs": [
    {
     "data": {
      "text/plain": [
       "[x^2 - y^2, -y^2]"
      ]
     },
     "execution_count": 91,
     "metadata": {},
     "output_type": "execute_result"
    }
   ],
   "source": [
    "new_pol = []\n",
    "polynom = 0\n",
    "for i in range(0,len(reduced_coefficients)):\n",
    "    for j in range(0,len(reduced_coefficients[i])):\n",
    "        polynom += reduced_coefficients[i][j] * new_monomials[i][j]\n",
    "    new_pol.append(polynom)\n",
    "    polynom = 0\n",
    "new_pol"
   ]
  },
  {
   "cell_type": "code",
   "execution_count": 92,
   "metadata": {},
   "outputs": [
    {
     "data": {
      "text/plain": [
       "Dynamical System of Projective Space of dimension 1 over Finite Field of size 17\n",
       "  Defn: Defined on coordinates by sending (x : y) to\n",
       "        (x^2 - y^2 : -y^2)"
      ]
     },
     "execution_count": 92,
     "metadata": {},
     "output_type": "execute_result"
    }
   ],
   "source": [
    "# construct a new dynamical system from the polynomials\n",
    "new_DS = DynamicalSystem(new_pol); new_DS "
   ]
  },
  {
   "cell_type": "code",
   "execution_count": null,
   "metadata": {},
   "outputs": [],
   "source": []
  },
  {
   "cell_type": "code",
   "execution_count": null,
   "metadata": {},
   "outputs": [],
   "source": []
  }
 ],
 "metadata": {
  "kernelspec": {
   "display_name": "SageMath 9.2",
   "language": "sage",
   "name": "sagemath"
  },
  "language_info": {
   "codemirror_mode": {
    "name": "ipython",
    "version": 3
   },
   "file_extension": ".py",
   "mimetype": "text/x-python",
   "name": "python",
   "nbconvert_exporter": "python",
   "pygments_lexer": "ipython3",
   "version": "3.8.3"
  }
 },
 "nbformat": 4,
 "nbformat_minor": 4
}
